{
  "nbformat": 4,
  "nbformat_minor": 0,
  "metadata": {
    "colab": {
      "provenance": []
    },
    "kernelspec": {
      "name": "python3",
      "display_name": "Python 3"
    },
    "language_info": {
      "name": "python"
    }
  },
  "cells": [
    {
      "cell_type": "markdown",
      "source": [
        "**Market Basket Analysis**"
      ],
      "metadata": {
        "id": "9bqq4vyLCs6g"
      }
    },
    {
      "cell_type": "code",
      "source": [
        "!pip install apyori"
      ],
      "metadata": {
        "colab": {
          "base_uri": "https://localhost:8080/"
        },
        "id": "kh9UX-0wB86K",
        "outputId": "24681488-1610-4d81-a214-8bac53020293"
      },
      "execution_count": 1,
      "outputs": [
        {
          "output_type": "stream",
          "name": "stdout",
          "text": [
            "Collecting apyori\n",
            "  Downloading apyori-1.1.2.tar.gz (8.6 kB)\n",
            "  Preparing metadata (setup.py) ... \u001b[?25l\u001b[?25hdone\n",
            "Building wheels for collected packages: apyori\n",
            "  Building wheel for apyori (setup.py) ... \u001b[?25l\u001b[?25hdone\n",
            "  Created wheel for apyori: filename=apyori-1.1.2-py3-none-any.whl size=5954 sha256=4b7c50364d4e1808412dfdf8907bea86ddf3b44faf343b7d110bcd522165ab1b\n",
            "  Stored in directory: /root/.cache/pip/wheels/77/3d/a6/d317a6fb32be58a602b1e8c6b5d6f31f79322da554cad2a5ea\n",
            "Successfully built apyori\n",
            "Installing collected packages: apyori\n",
            "Successfully installed apyori-1.1.2\n"
          ]
        }
      ]
    },
    {
      "cell_type": "code",
      "source": [
        "import numpy as np\n",
        "import pandas as pd\n",
        "from apyori import apriori"
      ],
      "metadata": {
        "id": "yApXCtOkDOWJ"
      },
      "execution_count": 2,
      "outputs": []
    },
    {
      "cell_type": "code",
      "source": [
        "#load dataset\n",
        "store_data = pd.read_csv('Day1.csv' , header=None)"
      ],
      "metadata": {
        "id": "Xficz-z5Dhc-"
      },
      "execution_count": 3,
      "outputs": []
    },
    {
      "cell_type": "code",
      "source": [
        "print(store_data)"
      ],
      "metadata": {
        "colab": {
          "base_uri": "https://localhost:8080/"
        },
        "id": "5_fBvr4KFowy",
        "outputId": "e2f258de-8f5f-4963-9943-da50554035fa"
      },
      "execution_count": 4,
      "outputs": [
        {
          "output_type": "stream",
          "name": "stdout",
          "text": [
            "       0      1      2       3     4      5\n",
            "0   Wine  Chips  Bread  Butter  Milk  Apple\n",
            "1   Wine    NaN  Bread  Butter  Milk    NaN\n",
            "2    NaN    NaN  Bread  Butter  Milk    NaN\n",
            "3    NaN  Chips    NaN     NaN   NaN  Apple\n",
            "4   Wine  Chips  Bread  Butter  Milk  Apple\n",
            "5   Wine  Chips    NaN     NaN  Milk    NaN\n",
            "6   Wine  Chips  Bread  Butter   NaN  Apple\n",
            "7   Wine  Chips    NaN     NaN  Milk    NaN\n",
            "8   Wine    NaN  Bread     NaN   NaN  Apple\n",
            "9   Wine    NaN  Bread  Butter  Milk    NaN\n",
            "10   NaN  Chips  Bread  Butter   NaN  Apple\n",
            "11  Wine    NaN    NaN  Butter  Milk  Apple\n",
            "12  Wine  Chips  Bread  Butter  Milk    NaN\n",
            "13  Wine    NaN  Bread     NaN  Milk  Apple\n",
            "14  Wine    NaN  Bread  Butter  Milk  Apple\n",
            "15  Wine  Chips  Bread  Butter  Milk  Apple\n",
            "16   NaN  Chips  Bread  Butter  Milk  Apple\n",
            "17   NaN  Chips    NaN  Butter  Milk  Apple\n",
            "18  Wine  Chips  Bread  Butter  Milk  Apple\n",
            "19  Wine    NaN  Bread  Butter  Milk  Apple\n",
            "20  Wine  Chips  Bread     NaN  Milk  Apple\n",
            "21   NaN  Chips    NaN     NaN   NaN    NaN\n"
          ]
        }
      ]
    },
    {
      "cell_type": "code",
      "source": [
        "store_data.shape #find the shape of the dataset"
      ],
      "metadata": {
        "colab": {
          "base_uri": "https://localhost:8080/"
        },
        "id": "jh3Ipw7yFzUQ",
        "outputId": "ada2015e-ba70-49cc-cb21-ead8ac5f8921"
      },
      "execution_count": 5,
      "outputs": [
        {
          "output_type": "execute_result",
          "data": {
            "text/plain": [
              "(22, 6)"
            ]
          },
          "metadata": {},
          "execution_count": 5
        }
      ]
    },
    {
      "cell_type": "markdown",
      "source": [
        "**Convert the pandas dataframe into a list of lists**"
      ],
      "metadata": {
        "id": "g_RnAECCGfRd"
      }
    },
    {
      "cell_type": "code",
      "source": [
        "records = []\n",
        "for i in range(0,22):\n",
        "  records.append([str(store_data.values[i,j]) for j in range(0,6)])"
      ],
      "metadata": {
        "id": "eC2-MJL3FzsZ"
      },
      "execution_count": 6,
      "outputs": []
    },
    {
      "cell_type": "code",
      "source": [
        "records"
      ],
      "metadata": {
        "colab": {
          "base_uri": "https://localhost:8080/"
        },
        "id": "abs1MgeMGmUz",
        "outputId": "7c169da9-4aa1-499f-80cd-98f82dc10452"
      },
      "execution_count": 7,
      "outputs": [
        {
          "output_type": "execute_result",
          "data": {
            "text/plain": [
              "[['Wine', 'Chips', 'Bread', 'Butter', 'Milk', 'Apple'],\n",
              " ['Wine', 'nan', 'Bread', 'Butter', 'Milk', 'nan'],\n",
              " ['nan', 'nan', 'Bread', 'Butter', 'Milk', 'nan'],\n",
              " ['nan', 'Chips', 'nan', 'nan', 'nan', 'Apple'],\n",
              " ['Wine', 'Chips', 'Bread', 'Butter', 'Milk', 'Apple'],\n",
              " ['Wine', 'Chips', 'nan', 'nan', 'Milk', 'nan'],\n",
              " ['Wine', 'Chips', 'Bread', 'Butter', 'nan', 'Apple'],\n",
              " ['Wine', 'Chips', 'nan', 'nan', 'Milk', 'nan'],\n",
              " ['Wine', 'nan', 'Bread', 'nan', 'nan', 'Apple'],\n",
              " ['Wine', 'nan', 'Bread', 'Butter', 'Milk', 'nan'],\n",
              " ['nan', 'Chips', 'Bread', 'Butter', 'nan', 'Apple'],\n",
              " ['Wine', 'nan', 'nan', 'Butter', 'Milk', 'Apple'],\n",
              " ['Wine', 'Chips', 'Bread', 'Butter', 'Milk', 'nan'],\n",
              " ['Wine', 'nan', 'Bread', 'nan', 'Milk', 'Apple'],\n",
              " ['Wine', 'nan', 'Bread', 'Butter', 'Milk', 'Apple'],\n",
              " ['Wine', 'Chips', 'Bread', 'Butter', 'Milk', 'Apple'],\n",
              " ['nan', 'Chips', 'Bread', 'Butter', 'Milk', 'Apple'],\n",
              " ['nan', 'Chips', 'nan', 'Butter', 'Milk', 'Apple'],\n",
              " ['Wine', 'Chips', 'Bread', 'Butter', 'Milk', 'Apple'],\n",
              " ['Wine', 'nan', 'Bread', 'Butter', 'Milk', 'Apple'],\n",
              " ['Wine', 'Chips', 'Bread', 'nan', 'Milk', 'Apple'],\n",
              " ['nan', 'Chips', 'nan', 'nan', 'nan', 'nan']]"
            ]
          },
          "metadata": {},
          "execution_count": 7
        }
      ]
    },
    {
      "cell_type": "markdown",
      "source": [
        "Building the first apriori model"
      ],
      "metadata": {
        "id": "V_3k1mccHkOR"
      }
    },
    {
      "cell_type": "code",
      "source": [
        "association_rules = apriori(records, min_support=0.50, min_confidence=0.7, min_lift=1.2, min_length=2)\n",
        "association_results = list(association_rules)"
      ],
      "metadata": {
        "id": "xLn431OxGoQa"
      },
      "execution_count": 9,
      "outputs": []
    },
    {
      "cell_type": "code",
      "source": [
        "print(len(association_results))\n",
        "#print the number of rules"
      ],
      "metadata": {
        "colab": {
          "base_uri": "https://localhost:8080/"
        },
        "id": "7Avoucm4Gtot",
        "outputId": "3f540936-db23-4f15-8948-1ffdc6f4efc0"
      },
      "execution_count": 10,
      "outputs": [
        {
          "output_type": "stream",
          "name": "stdout",
          "text": [
            "1\n"
          ]
        }
      ]
    },
    {
      "cell_type": "code",
      "source": [
        "#have a glance at the rule\n",
        "print(association_results)"
      ],
      "metadata": {
        "colab": {
          "base_uri": "https://localhost:8080/"
        },
        "id": "MR6V_7GdHX2U",
        "outputId": "8c49a4a9-1df4-4110-82d3-70c1e62446fa"
      },
      "execution_count": 11,
      "outputs": [
        {
          "output_type": "stream",
          "name": "stdout",
          "text": [
            "[RelationRecord(items=frozenset({'Milk', 'Butter', 'Bread'}), support=0.5, ordered_statistics=[OrderedStatistic(items_base=frozenset({'Butter'}), items_add=frozenset({'Milk', 'Bread'}), confidence=0.7333333333333334, lift=1.241025641025641), OrderedStatistic(items_base=frozenset({'Milk', 'Bread'}), items_add=frozenset({'Butter'}), confidence=0.8461538461538461, lift=1.241025641025641)])]\n"
          ]
        }
      ]
    },
    {
      "cell_type": "markdown",
      "source": [
        "**The support value for the first rule is 0.5.** This number is calculated by dividing the number of transactions containing 'Milk' , 'Bread', and 'Butter' by the total number of transactions."
      ],
      "metadata": {
        "id": "cES2YmpwH0LQ"
      }
    }
  ]
}